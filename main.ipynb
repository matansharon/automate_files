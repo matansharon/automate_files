{
 "cells": [
  {
   "cell_type": "code",
   "execution_count": 5,
   "metadata": {},
   "outputs": [],
   "source": [
    "import pandas as pd\n",
    "import numpy as np\n",
    "import os\n",
    "import pathlib\n"
   ]
  },
  {
   "cell_type": "code",
   "execution_count": null,
   "metadata": {},
   "outputs": [],
   "source": [
    "list_of_customers = pd.read_excel('only_the_customer_number.xlsx')\n",
    "#drop all rows with NaN value in the Customer Number column\n",
    "list_of_customers = list_of_customers.dropna(subset=['Customer number'])\n",
    "(list_of_customers)"
   ]
  },
  {
   "cell_type": "code",
   "execution_count": null,
   "metadata": {},
   "outputs": [],
   "source": [
    "#create a folder in the folders directory name matan in the parent directory name folders and put a the file Customer_refrence.docx in it\n",
    "for file in list_of_customers['Customer number'].head(5):\n",
    "    i=str(int(file))\n",
    "    os.makedirs(f'folders/{i}')\n",
    "    pathlib.Path(f'folders/{i}/Customer_refrence.docx').touch()\n",
    "\n"
   ]
  },
  {
   "cell_type": "code",
   "execution_count": null,
   "metadata": {},
   "outputs": [],
   "source": [
    "\n",
    "# for c in list_of_customers['Customer number'].head(5):\n",
    "#     # print(c)\n",
    "#     if c:\n",
    "#         customer=str(int(c))\n",
    "#         path = pathlib.Path('folders', customer)\n",
    "#         path.mkdir(parents=True, exist_ok=True)\n",
    "#         with open(pathlib.Path('folders', customer, 'test.docx'), 'w') as f:\n",
    "#             f.write('test')"
   ]
  },
  {
   "cell_type": "code",
   "execution_count": null,
   "metadata": {},
   "outputs": [],
   "source": [
    "for c in list_of_customers:\n",
    "    pathlib.Path('folders/matan').mkdir(parents=True, exist_ok=True)   "
   ]
  },
  {
   "cell_type": "code",
   "execution_count": null,
   "metadata": {},
   "outputs": [],
   "source": []
  }
 ],
 "metadata": {
  "kernelspec": {
   "display_name": "Python 3.9.12 ('base')",
   "language": "python",
   "name": "python3"
  },
  "language_info": {
   "codemirror_mode": {
    "name": "ipython",
    "version": 3
   },
   "file_extension": ".py",
   "mimetype": "text/x-python",
   "name": "python",
   "nbconvert_exporter": "python",
   "pygments_lexer": "ipython3",
   "version": "3.9.12"
  },
  "orig_nbformat": 4,
  "vscode": {
   "interpreter": {
    "hash": "3d5db532c048f37cc8487068e8e1c41ac5ce63d1b52e8a8c32ff882c22c4c18a"
   }
  }
 },
 "nbformat": 4,
 "nbformat_minor": 2
}
