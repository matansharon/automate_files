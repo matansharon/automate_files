{
 "cells": [
  {
   "cell_type": "code",
   "execution_count": 75,
   "metadata": {},
   "outputs": [],
   "source": [
    "import pandas as pd\n",
    "import numpy as np\n",
    "import os\n",
    "import pathlib\n",
    "from datetime import datetime\n",
    "from docx import Document"
   ]
  },
  {
   "cell_type": "code",
   "execution_count": 61,
   "metadata": {},
   "outputs": [],
   "source": [
    "class Customer:\n",
    "    def __init__(self,id,name):\n",
    "        self.id = id\n",
    "        self.name = name\n",
    "        self.components={}\n",
    "    def add(self,component):\n",
    "        self.components[component.id] = component\n",
    "    def get(self,component_id):\n",
    "        return self.components[component_id]\n",
    "    def get_all_components(self):\n",
    "        res=self.components.values()\n",
    "        return res\n",
    "    def get_id(self):\n",
    "        return self.id\n",
    "    def get_name(self):\n",
    "        return self.name\n",
    "    def toString(self):\n",
    "        return \"Customer: \"+str(self.id)+\" \"+str(self.name)\n",
    "    "
   ]
  },
  {
   "cell_type": "code",
   "execution_count": 62,
   "metadata": {},
   "outputs": [],
   "source": [
    "class Component:\n",
    "    def __init__(self,id,name):\n",
    "        self.id = id\n",
    "        self.name = name \n",
    "    def get_id(self):\n",
    "        return self.id\n",
    "    def get_name(self):\n",
    "        return self.name\n",
    "    def toString(self):\n",
    "        return \"Component: \"+str(self.id)+\" \"+self.name"
   ]
  },
  {
   "cell_type": "code",
   "execution_count": 64,
   "metadata": {},
   "outputs": [],
   "source": [
    "data=pd.read_csv(\"sold.csv\")\n",
    "customers=set(data['Customer_number'])\n",
    "customers={}\n",
    "for i in range(len(data)):\n",
    "    row=data.iloc[i]\n",
    "    if row['Customer_number'] not in customers:\n",
    "        customers[row['Customer_number']]=Customer(row['Customer_number'],row['Customer_name'])\n",
    "    temp_customer=customers[row['Customer_number']]\n",
    "    temp_customer.add(Component(row['Item_number'],row['Name']))\n"
   ]
  },
  {
   "cell_type": "code",
   "execution_count": null,
   "metadata": {},
   "outputs": [],
   "source": [
    "for customer in customers:\n",
    "    print(customers[customer].toString())\n",
    "    for component in customers[customer].get_all_components():\n",
    "        print('  '+component.toString())"
   ]
  },
  {
   "cell_type": "code",
   "execution_count": 79,
   "metadata": {},
   "outputs": [
    {
     "name": "stdout",
     "output_type": "stream",
     "text": [
      "row number : 0--> To: APPLIED MEDICAL RESOURCES\n",
      "----------------------------------------------------------------------------------------------------\n",
      "row number : 1--> Attention: To Whom It May Concern\n",
      "----------------------------------------------------------------------------------------------------\n",
      "row number : 2--> From: Dima Ali\n",
      "----------------------------------------------------------------------------------------------------\n",
      "row number : 3--> Date:  2022-12-30\n",
      "----------------------------------------------------------------------------------------------------\n",
      "row number : 4--> \n",
      "----------------------------------------------------------------------------------------------------\n",
      "row number : 5--> Re: CN-22-33 Change notification regarding Elcam Specifications Update 0020-G, 0021-G, 0040-G, 0090-G\n",
      "----------------------------------------------------------------------------------------------------\n",
      "row number : 6--> \n",
      "----------------------------------------------------------------------------------------------------\n",
      "row number : 7--> Dear Valued Customer, \n",
      "----------------------------------------------------------------------------------------------------\n",
      "row number : 8--> \n",
      "----------------------------------------------------------------------------------------------------\n",
      "row number : 9--> We would like to inform you regarding a revision update of Elcam specifications number: \n",
      "----------------------------------------------------------------------------------------------------\n",
      "row number : 10--> Spec 0020-G Rev I - SPSB Stopcocks\n",
      "----------------------------------------------------------------------------------------------------\n",
      "row number : 11--> Spec 0021-G Rev D - SPLB Stopcocks\n",
      "----------------------------------------------------------------------------------------------------\n",
      "row number : 12--> Spec 0040-M Rev J - Monoblock-Manifold\n",
      "----------------------------------------------------------------------------------------------------\n",
      "row number : 13--> Spec 0090-G Rev B – NIP\n",
      "----------------------------------------------------------------------------------------------------\n",
      "row number : 14--> \n",
      "----------------------------------------------------------------------------------------------------\n",
      "row number : 15--> Attached you will find copy of the specifications 0020-G, 0021-G, 0040-G, 0090-G.\n",
      "----------------------------------------------------------------------------------------------------\n",
      "row number : 16--> At the end of the specification, you can find history table with details regarding the changes that were made in each revision.\n",
      "----------------------------------------------------------------------------------------------------\n",
      "row number : 17--> \n",
      "----------------------------------------------------------------------------------------------------\n",
      "row number : 18--> The following product(s) currently purchased by your company will be affected by this notification:\n",
      "----------------------------------------------------------------------------------------------------\n",
      "row number : 19--> \n",
      "----------------------------------------------------------------------------------------------------\n",
      "row number : 20--> Please note that if your current approved specification implies otherwise, it is your responsibility to revise it accordingly.\n",
      "----------------------------------------------------------------------------------------------------\n",
      "row number : 21--> \n",
      "----------------------------------------------------------------------------------------------------\n",
      "row number : 22--> We would like to emphasize that there will be no change in product's performances or functionality.\n",
      "----------------------------------------------------------------------------------------------------\n",
      "row number : 23--> \n",
      "----------------------------------------------------------------------------------------------------\n",
      "row number : 24--> \n",
      "Should you have any comments or if any further information is required, please contact me at: \n",
      "----------------------------------------------------------------------------------------------------\n",
      "row number : 25--> \n",
      "----------------------------------------------------------------------------------------------------\n",
      "row number : 26--> Best Regards, \n",
      "----------------------------------------------------------------------------------------------------\n",
      "row number : 27--> Dima Ali\n",
      "----------------------------------------------------------------------------------------------------\n",
      "row number : 28--> Elcam Medical\n",
      "----------------------------------------------------------------------------------------------------\n",
      "row number : 29--> \n",
      "----------------------------------------------------------------------------------------------------\n"
     ]
    }
   ],
   "source": [
    "curr_customer=customers[15008]\n",
    "\n",
    "document = Document('Customer_letter.docx')\n",
    "\n",
    "document.paragraphs[0].text +=curr_customer.get_name()\n",
    "document.paragraphs[3].text +=' '+datetime.today().strftime('%Y-%m-%d')\n",
    "for  p in range(len(document.paragraphs)):\n",
    "    row=document.paragraphs[p]\n",
    "    print(f'row number : {p}--> {row.text}')\n",
    "    print('-'*100)\n",
    "document.save('test2.docx')"
   ]
  }
 ],
 "metadata": {
  "kernelspec": {
   "display_name": "base",
   "language": "python",
   "name": "python3"
  },
  "language_info": {
   "codemirror_mode": {
    "name": "ipython",
    "version": 3
   },
   "file_extension": ".py",
   "mimetype": "text/x-python",
   "name": "python",
   "nbconvert_exporter": "python",
   "pygments_lexer": "ipython3",
   "version": "3.9.13"
  },
  "orig_nbformat": 4,
  "vscode": {
   "interpreter": {
    "hash": "3f5489b7472e0db5a0aca474269aa1efb9aed33b7cc21a8c650b51c14ef83b94"
   }
  }
 },
 "nbformat": 4,
 "nbformat_minor": 2
}
