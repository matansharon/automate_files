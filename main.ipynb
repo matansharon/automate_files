{
 "cells": [
  {
   "cell_type": "code",
   "execution_count": 40,
   "metadata": {},
   "outputs": [],
   "source": [
    "import pandas as pd\n",
    "import numpy as np\n",
    "import os\n",
    "import pathlib\n"
   ]
  },
  {
   "cell_type": "code",
   "execution_count": null,
   "metadata": {},
   "outputs": [],
   "source": [
    "list_of_customers = pd.read_excel('only_the_customer_number.xlsx')\n",
    "list_of_customers.dropna().astype(int).astype(str)"
   ]
  },
  {
   "cell_type": "code",
   "execution_count": 52,
   "metadata": {},
   "outputs": [
    {
     "name": "stdout",
     "output_type": "stream",
     "text": [
      "Customer number\n"
     ]
    }
   ],
   "source": [
    "#create a folder in the folders directory name matan in the parent directory name folders and put a .docx file in it\n",
    "for customer in list_of_customers:\n",
    "    print(customer)\n",
    "    # path = pathlib.Path('folders', customer)\n",
    "    # path.mkdir(parents=True, exist_ok=True)\n",
    "    # with open(pathlib.Path('folders', customer, 'test.docx'), 'w') as f:\n",
    "    #     f.write('test')\n"
   ]
  },
  {
   "cell_type": "code",
   "execution_count": 48,
   "metadata": {},
   "outputs": [],
   "source": [
    "for c in list_of_customers:\n",
    "    pathlib.Path(f'folders/{c}').mkdir(parents=True, exist_ok=True)   "
   ]
  }
 ],
 "metadata": {
  "kernelspec": {
   "display_name": "Python 3.9.12 ('base')",
   "language": "python",
   "name": "python3"
  },
  "language_info": {
   "codemirror_mode": {
    "name": "ipython",
    "version": 3
   },
   "file_extension": ".py",
   "mimetype": "text/x-python",
   "name": "python",
   "nbconvert_exporter": "python",
   "pygments_lexer": "ipython3",
   "version": "3.9.12"
  },
  "orig_nbformat": 4,
  "vscode": {
   "interpreter": {
    "hash": "3d5db532c048f37cc8487068e8e1c41ac5ce63d1b52e8a8c32ff882c22c4c18a"
   }
  }
 },
 "nbformat": 4,
 "nbformat_minor": 2
}
