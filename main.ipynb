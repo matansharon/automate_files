{
 "cells": [
  {
   "cell_type": "code",
   "execution_count": 75,
   "metadata": {},
   "outputs": [],
   "source": [
    "import pandas as pd\n",
    "import numpy as np\n",
    "import os\n",
    "import pathlib\n",
    "from datetime import datetime\n",
    "from docx import Document"
   ]
  },
  {
   "cell_type": "code",
<<<<<<< HEAD
   "execution_count": 15,
   "metadata": {},
   "outputs": [
    {
     "name": "stdout",
     "output_type": "stream",
     "text": [
      "[15008 15009 15010 15108 15131 15139 15181 15286 15545 15673 15683 15728\n",
      " 15735 80118 80410 80513 80918 81013 81014 81401 81526 81717 81831 83118\n",
      " 83122 83213 83411 84314 84330 85455 85472 90249 91220]\n"
     ]
    }
   ],
   "source": [
    "#read the sold.csv \n",
    "df = pd.read_csv('sold.csv')\n",
    "df.head()\n",
    "list_of_customers=df['Customer_number'].unique()\n",
    "print((list_of_customers))"
=======
   "execution_count": 61,
   "metadata": {},
   "outputs": [],
   "source": [
    "class Customer:\n",
    "    def __init__(self,id,name):\n",
    "        self.id = id\n",
    "        self.name = name\n",
    "        self.components={}\n",
    "    def add(self,component):\n",
    "        self.components[component.id] = component\n",
    "    def get(self,component_id):\n",
    "        return self.components[component_id]\n",
    "    def get_all_components(self):\n",
    "        res=self.components.values()\n",
    "        return res\n",
    "    def get_id(self):\n",
    "        return self.id\n",
    "    def get_name(self):\n",
    "        return self.name\n",
    "    def toString(self):\n",
    "        return \"Customer: \"+str(self.id)+\" \"+str(self.name)\n",
    "    "
   ]
  },
  {
   "cell_type": "code",
   "execution_count": 62,
   "metadata": {},
   "outputs": [],
   "source": [
    "class Component:\n",
    "    def __init__(self,id,name):\n",
    "        self.id = id\n",
    "        self.name = name \n",
    "    def get_id(self):\n",
    "        return self.id\n",
    "    def get_name(self):\n",
    "        return self.name\n",
    "    def toString(self):\n",
    "        return \"Component: \"+str(self.id)+\" \"+self.name"
   ]
  },
  {
   "cell_type": "code",
   "execution_count": 64,
   "metadata": {},
   "outputs": [],
   "source": [
    "data=pd.read_csv(\"sold.csv\")\n",
    "customers=set(data['Customer_number'])\n",
    "customers={}\n",
    "for i in range(len(data)):\n",
    "    row=data.iloc[i]\n",
    "    if row['Customer_number'] not in customers:\n",
    "        customers[row['Customer_number']]=Customer(row['Customer_number'],row['Customer_name'])\n",
    "    temp_customer=customers[row['Customer_number']]\n",
    "    temp_customer.add(Component(row['Item_number'],row['Name']))\n"
>>>>>>> e8c95f99a57728a177bf03f18ec10db32dc96b1d
   ]
  },
  {
   "cell_type": "code",
<<<<<<< HEAD
   "execution_count": 27,
   "metadata": {},
   "outputs": [
    {
     "name": "stdout",
     "output_type": "stream",
     "text": [
      "/Users/matansharon/python projects\n"
     ]
    },
    {
     "ename": "FileNotFoundError",
     "evalue": "[Errno 2] No such file or directory: '/Users/matansharon/python projects/folders/15008'",
     "output_type": "error",
     "traceback": [
      "\u001b[0;31m---------------------------------------------------------------------------\u001b[0m",
      "\u001b[0;31mFileNotFoundError\u001b[0m                         Traceback (most recent call last)",
      "Cell \u001b[0;32mIn [27], line 8\u001b[0m\n\u001b[1;32m      5\u001b[0m \u001b[39m#create a folder for each customer\u001b[39;00m\n\u001b[1;32m      6\u001b[0m \u001b[39mfor\u001b[39;00m customer \u001b[39min\u001b[39;00m list_of_customers:\n\u001b[1;32m      7\u001b[0m     \u001b[39m#create a new folder for each customer\u001b[39;00m\n\u001b[0;32m----> 8\u001b[0m     os\u001b[39m.\u001b[39;49mmkdir(cwd\u001b[39m+\u001b[39;49m\u001b[39m'\u001b[39;49m\u001b[39m/folders/\u001b[39;49m\u001b[39m'\u001b[39;49m\u001b[39m+\u001b[39;49m\u001b[39mstr\u001b[39;49m(customer))\n\u001b[1;32m      9\u001b[0m     \u001b[39m#copy the customer_letter.docx to the new folder\u001b[39;00m\n\u001b[1;32m     10\u001b[0m     os\u001b[39m.\u001b[39msystem(\u001b[39m'\u001b[39m\u001b[39mcp customer_letter.docx \u001b[39m\u001b[39m'\u001b[39m\u001b[39m+\u001b[39mcwd\u001b[39m+\u001b[39m\u001b[39m'\u001b[39m\u001b[39m/folders/\u001b[39m\u001b[39m'\u001b[39m\u001b[39m+\u001b[39m\u001b[39mstr\u001b[39m(customer)\u001b[39m+\u001b[39m\u001b[39m'\u001b[39m\u001b[39m/customer_letter.docx\u001b[39m\u001b[39m'\u001b[39m)\n",
      "\u001b[0;31mFileNotFoundError\u001b[0m: [Errno 2] No such file or directory: '/Users/matansharon/python projects/folders/15008'"
     ]
    }
   ],
   "source": [
    "#create a new folder for each number in the list_of_customers and put inside the folder the customer_letter.docx\n",
    "#get the parent current working directory\n",
    "cwd = os.getcwd()\n",
    "print(cwd)\n",
    "#create a folder for each customer\n",
    "for customer in list_of_customers:\n",
    "    #create a new folder for each customer\n",
    "    os.mkdir(cwd+'/folders/'+str(customer))\n",
    "    #copy the customer_letter.docx to the new folder\n",
    "    os.system('cp customer_letter.docx '+cwd+'/folders/'+str(customer)+'/customer_letter.docx')\n"
=======
   "execution_count": null,
   "metadata": {},
   "outputs": [],
   "source": [
    "for customer in customers:\n",
    "    print(customers[customer].toString())\n",
    "    for component in customers[customer].get_all_components():\n",
    "        print('  '+component.toString())"
>>>>>>> e8c95f99a57728a177bf03f18ec10db32dc96b1d
   ]
  },
  {
   "cell_type": "code",
   "execution_count": 136,
   "metadata": {},
   "outputs": [
    {
     "name": "stdout",
     "output_type": "stream",
     "text": [
      "Customer P/N#\n",
      "Elcam P/N#\n",
      "Description\n",
      "\n",
      "\n",
      "\n",
      "\n",
      "\n",
      "\n",
      "\n",
      "\n",
      "\n",
      "\n",
      "\n",
      "\n",
      "\n",
      "\n",
      "\n"
     ]
    }
   ],
   "source": [
    "curr_customer=customers[15008]\n",
    "\n",
    "document = Document('customer_letter.docx')\n",
    "\n",
    "document.paragraphs[0].text +=curr_customer.get_name()\n",
    "document.paragraphs[3].text +=' '+datetime.today().strftime('%Y-%m-%d')\n",
    "document.paragraphs[7].text = 'Dear '+curr_customer.get_name()+','\n",
    "for row in document.tables[0].rows:\n",
    "    #use addnext to add a new row\n",
    "    for cell in row.cells:\n",
    "        print(cell.text)\n",
    "        # for paragraph in cell.paragraphs:\n",
    "        #     print(paragraph.text)\n",
    "\n",
    "\n",
    "\n",
    "\n",
    "\n",
    "\n",
    "        \n",
    "# for  p in range(len(document.paragraphs)):\n",
    "#     row=document.paragraphs[p]\n",
    "#     # if p==19:\n",
    "#     #    print(document.tables[0].cell(0,0).text)\n",
    "        \n",
    "#     print(f'row number : {p}--> {row.text}')\n",
    "#     print('-'*100)\n",
    "\n",
    "            \n",
    "document.save('test2.docx')"
   ]
  }
 ],
 "metadata": {
  "kernelspec": {
   "display_name": "base",
   "language": "python",
   "name": "python3"
  },
  "language_info": {
   "codemirror_mode": {
    "name": "ipython",
    "version": 3
   },
   "file_extension": ".py",
   "mimetype": "text/x-python",
   "name": "python",
   "nbconvert_exporter": "python",
   "pygments_lexer": "ipython3",
   "version": "3.9.13"
  },
  "orig_nbformat": 4,
  "vscode": {
   "interpreter": {
    "hash": "3f5489b7472e0db5a0aca474269aa1efb9aed33b7cc21a8c650b51c14ef83b94"
   }
  }
 },
 "nbformat": 4,
 "nbformat_minor": 2
}
