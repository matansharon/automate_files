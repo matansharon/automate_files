{
 "cells": [
  {
   "cell_type": "code",
   "execution_count": 2,
   "metadata": {},
   "outputs": [],
   "source": [
    "import pandas as pd\n",
    "import numpy as np\n",
    "import os\n",
    "import pathlib\n",
    "from datetime import datetime\n",
    "from docx import Document"
   ]
  },
  {
   "cell_type": "code",
   "execution_count": 3,
   "metadata": {},
   "outputs": [],
   "source": [
    "class Customer:\n",
    "    def __init__(self,id,name):\n",
    "        self.id = id\n",
    "        self.name = name\n",
    "        self.components={}\n",
    "    def add(self,component):\n",
    "        self.components[component.id] = component\n",
    "    def get(self,component_id):\n",
    "        return self.components[component_id]\n",
    "    def get_all_components(self):\n",
    "        res=self.components.values()\n",
    "        return res\n",
    "    def get_id(self):\n",
    "        return self.id\n",
    "    def get_name(self):\n",
    "        return self.name\n",
    "    def toString(self):\n",
    "        return \"Customer: \"+str(self.id)+\" \"+str(self.name)\n",
    "    "
   ]
  },
  {
   "cell_type": "code",
   "execution_count": 4,
   "metadata": {},
   "outputs": [],
   "source": [
    "class Component:\n",
    "    def __init__(self,id,name):\n",
    "        self.id = id\n",
    "        self.name = name \n",
    "    def get_id(self):\n",
    "        return self.id\n",
    "    def get_name(self):\n",
    "        return self.name\n",
    "    def toString(self):\n",
    "        return \"Component: \"+str(self.id)+\" \"+self.name"
   ]
  },
  {
   "cell_type": "code",
   "execution_count": 5,
   "metadata": {},
   "outputs": [],
   "source": [
    "data=pd.read_csv(\"sold.csv\")\n",
    "customers=set(data['Customer_number'])\n",
    "customers={}\n",
    "for i in range(len(data)):\n",
    "    row=data.iloc[i]\n",
    "    if row['Customer_number'] not in customers:\n",
    "        customers[row['Customer_number']]=Customer(row['Customer_number'],row['Customer_name'])\n",
    "    temp_customer=customers[row['Customer_number']]\n",
    "    temp_customer.add(Component(row['Item_number'],row['Name']))\n"
   ]
  },
  {
   "cell_type": "code",
   "execution_count": null,
   "metadata": {},
   "outputs": [],
   "source": [
    "for customer in customers:\n",
    "    print(customers[customer].toString())\n",
    "    for component in customers[customer].get_all_components():\n",
    "        print('  '+component.toString())"
   ]
  },
  {
   "cell_type": "code",
   "execution_count": 70,
   "metadata": {},
   "outputs": [],
   "source": [
    "\n",
    "\n",
    "def create_file(file_number,p=None):\n",
    "        path=p\n",
    "        if path==None:\n",
    "                path=pathlib.Path().absolute()\n",
    "        curr_customer=customers[file_number]\n",
    "\n",
    "        document = Document('customer_letter.docx')\n",
    "\n",
    "        document.paragraphs[0].text +=curr_customer.get_name()\n",
    "        document.paragraphs[3].text +=' '+datetime.today().strftime('%Y-%m-%d')\n",
    "        document.paragraphs[7].text = 'Dear '+curr_customer.get_name()+','\n",
    "        row_index=1\n",
    "        table=document.tables[0]\n",
    "        for c in curr_customer.get_all_components():\n",
    "                \n",
    "                #get the rows from table\n",
    "                table.add_row()\n",
    "                row=table.rows[row_index]\n",
    "                row.cells[0].text=curr_customer.get_name()\n",
    "                row.cells[1].text=str(c.get_id())\n",
    "                row.cells[2].text=c.get_name()\n",
    "                row_index+=1\n",
    "\n",
    "\n",
    "                \n",
    "        #save the file in the path\n",
    "        print(f'{str(path)}/{str(curr_customer.get_id())}.docx')\n",
    "        document.save(f'{str(path)}/{str(curr_customer.get_id())}.docx')\n",
    "\n",
    "        \n"
   ]
  },
  {
   "cell_type": "code",
   "execution_count": 78,
   "metadata": {},
   "outputs": [
    {
     "name": "stdout",
     "output_type": "stream",
     "text": [
      "/Users/matansharon/python projects/automate_files\n",
      "/Users/matansharon/python projects/automate_files/folders/15008/15008.docx\n",
      "/Users/matansharon/python projects/automate_files/folders/15009/15009.docx\n",
      "/Users/matansharon/python projects/automate_files/folders/15010/15010.docx\n",
      "/Users/matansharon/python projects/automate_files/folders/15108/15108.docx\n",
      "/Users/matansharon/python projects/automate_files/folders/15131/15131.docx\n",
      "/Users/matansharon/python projects/automate_files/folders/15139/15139.docx\n",
      "/Users/matansharon/python projects/automate_files/folders/15181/15181.docx\n",
      "/Users/matansharon/python projects/automate_files/folders/15286/15286.docx\n",
      "/Users/matansharon/python projects/automate_files/folders/15545/15545.docx\n",
      "/Users/matansharon/python projects/automate_files/folders/15673/15673.docx\n",
      "/Users/matansharon/python projects/automate_files/folders/15683/15683.docx\n",
      "/Users/matansharon/python projects/automate_files/folders/15728/15728.docx\n",
      "/Users/matansharon/python projects/automate_files/folders/15735/15735.docx\n",
      "/Users/matansharon/python projects/automate_files/folders/80118/80118.docx\n",
      "/Users/matansharon/python projects/automate_files/folders/80410/80410.docx\n",
      "/Users/matansharon/python projects/automate_files/folders/80513/80513.docx\n",
      "/Users/matansharon/python projects/automate_files/folders/80918/80918.docx\n",
      "/Users/matansharon/python projects/automate_files/folders/81013/81013.docx\n",
      "/Users/matansharon/python projects/automate_files/folders/81014/81014.docx\n",
      "/Users/matansharon/python projects/automate_files/folders/81401/81401.docx\n",
      "/Users/matansharon/python projects/automate_files/folders/81526/81526.docx\n",
      "/Users/matansharon/python projects/automate_files/folders/81717/81717.docx\n",
      "/Users/matansharon/python projects/automate_files/folders/81831/81831.docx\n",
      "/Users/matansharon/python projects/automate_files/folders/83118/83118.docx\n",
      "/Users/matansharon/python projects/automate_files/folders/83122/83122.docx\n",
      "/Users/matansharon/python projects/automate_files/folders/83213/83213.docx\n",
      "/Users/matansharon/python projects/automate_files/folders/83411/83411.docx\n",
      "/Users/matansharon/python projects/automate_files/folders/84314/84314.docx\n",
      "/Users/matansharon/python projects/automate_files/folders/84330/84330.docx\n",
      "/Users/matansharon/python projects/automate_files/folders/85455/85455.docx\n",
      "/Users/matansharon/python projects/automate_files/folders/85472/85472.docx\n",
      "/Users/matansharon/python projects/automate_files/folders/90249/90249.docx\n",
      "/Users/matansharon/python projects/automate_files/folders/91220/91220.docx\n"
     ]
    }
   ],
   "source": [
    "#get the current folder\n",
    "path=pathlib.Path().absolute()\n",
    "print(path)\n",
    "#create folder in the path\n",
    "# path=pathlib.Path(path,'files')\n",
    "#add the folder to the path\n",
    "path=pathlib.Path(path,'folders')\n",
    "#check if the folder exists\n",
    "if not os.path.exists(path):\n",
    "    os.mkdir(path)\n",
    "#iterate over the customers\n",
    "for customer in customers:\n",
    "    #crete folder for each customer\n",
    "    customer_path=pathlib.Path(path,str(customer))\n",
    "    if not os.path.exists(customer_path):\n",
    "        os.mkdir(customer_path)\n",
    "    #create file for each customer\n",
    "    create_file(customer,customer_path)\n",
    "\n"
   ]
  },
  {
   "cell_type": "code",
   "execution_count": 71,
   "metadata": {},
   "outputs": [
    {
     "name": "stdout",
     "output_type": "stream",
     "text": [
      "/Users/matansharon/python projects/automate_files/15008.docx\n"
     ]
    }
   ],
   "source": [
    "create_file(15008)"
   ]
  },
  {
   "cell_type": "markdown",
   "metadata": {},
   "source": [
    "the code in the celll down is working\n",
    "i will try to do it in a free way"
   ]
  },
  {
   "cell_type": "code",
   "execution_count": 80,
   "metadata": {},
   "outputs": [
    {
     "name": "stdout",
     "output_type": "stream",
     "text": [
      "\n"
     ]
    }
   ],
   "source": [
    "# import requests\n",
    "\n",
    "# url = \"https://rapidprod-sendgrid-v1.p.rapidapi.com/mail/send\"\n",
    "\n",
    "# payload = {\n",
    "# \t\"personalizations\": [\n",
    "# \t\t{\n",
    "# \t\t\t\"to\": [{\"email\": \"matca2952@gmail.com\"}],\n",
    "# \t\t\t\"subject\": \"Hello, World!\"\n",
    "# \t\t}\n",
    "# \t],\n",
    "# \t\"from\": {\"email\": \"matca2952@gmail.com.com\"},\n",
    "# \t\"content\": [\n",
    "# \t\t{\n",
    "# \t\t\t\"type\": \"text/plain\",\n",
    "# \t\t\t\"value\": \"Hello, World!\"\n",
    "# \t\t}\n",
    "# \t]\n",
    "# }\n",
    "# headers = {\n",
    "# \t\"content-type\": \"application/json\",\n",
    "# \t\"X-RapidAPI-Key\": \"bddfdf70b8mshbb1ca9870c018e7p119c4ejsn7cd1c7ceb114\",\n",
    "# \t\"X-RapidAPI-Host\": \"rapidprod-sendgrid-v1.p.rapidapi.com\"\n",
    "# }\n",
    "\n",
    "# response = requests.request(\"POST\", url, json=payload, headers=headers)\n",
    "\n",
    "# print(response.text)\n"
   ]
  }
 ],
 "metadata": {
  "kernelspec": {
   "display_name": "Python 3.9.12 ('base')",
   "language": "python",
   "name": "python3"
  },
  "language_info": {
   "codemirror_mode": {
    "name": "ipython",
    "version": 3
   },
   "file_extension": ".py",
   "mimetype": "text/x-python",
   "name": "python",
   "nbconvert_exporter": "python",
   "pygments_lexer": "ipython3",
   "version": "3.9.12"
  },
  "orig_nbformat": 4,
  "vscode": {
   "interpreter": {
    "hash": "3d5db532c048f37cc8487068e8e1c41ac5ce63d1b52e8a8c32ff882c22c4c18a"
   }
  }
 },
 "nbformat": 4,
 "nbformat_minor": 2
}
