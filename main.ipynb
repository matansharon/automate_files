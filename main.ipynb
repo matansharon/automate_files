{
 "cells": [
  {
   "cell_type": "code",
   "execution_count": 12,
   "metadata": {},
   "outputs": [],
   "source": [
    "import pandas as pd\n",
    "import numpy as np\n",
    "import os\n",
    "import pathlib\n"
   ]
  },
  {
   "cell_type": "code",
   "execution_count": 15,
   "metadata": {},
   "outputs": [
    {
     "name": "stdout",
     "output_type": "stream",
     "text": [
      "[15008 15009 15010 15108 15131 15139 15181 15286 15545 15673 15683 15728\n",
      " 15735 80118 80410 80513 80918 81013 81014 81401 81526 81717 81831 83118\n",
      " 83122 83213 83411 84314 84330 85455 85472 90249 91220]\n"
     ]
    }
   ],
   "source": [
    "#read the sold.csv \n",
    "df = pd.read_csv('sold.csv')\n",
    "df.head()\n",
    "list_of_customers=df['Customer_number'].unique()\n",
    "print((list_of_customers))"
   ]
  },
  {
   "cell_type": "code",
   "execution_count": 27,
   "metadata": {},
   "outputs": [
    {
     "name": "stdout",
     "output_type": "stream",
     "text": [
      "/Users/matansharon/python projects\n"
     ]
    },
    {
     "ename": "FileNotFoundError",
     "evalue": "[Errno 2] No such file or directory: '/Users/matansharon/python projects/folders/15008'",
     "output_type": "error",
     "traceback": [
      "\u001b[0;31m---------------------------------------------------------------------------\u001b[0m",
      "\u001b[0;31mFileNotFoundError\u001b[0m                         Traceback (most recent call last)",
      "Cell \u001b[0;32mIn [27], line 8\u001b[0m\n\u001b[1;32m      5\u001b[0m \u001b[39m#create a folder for each customer\u001b[39;00m\n\u001b[1;32m      6\u001b[0m \u001b[39mfor\u001b[39;00m customer \u001b[39min\u001b[39;00m list_of_customers:\n\u001b[1;32m      7\u001b[0m     \u001b[39m#create a new folder for each customer\u001b[39;00m\n\u001b[0;32m----> 8\u001b[0m     os\u001b[39m.\u001b[39;49mmkdir(cwd\u001b[39m+\u001b[39;49m\u001b[39m'\u001b[39;49m\u001b[39m/folders/\u001b[39;49m\u001b[39m'\u001b[39;49m\u001b[39m+\u001b[39;49m\u001b[39mstr\u001b[39;49m(customer))\n\u001b[1;32m      9\u001b[0m     \u001b[39m#copy the customer_letter.docx to the new folder\u001b[39;00m\n\u001b[1;32m     10\u001b[0m     os\u001b[39m.\u001b[39msystem(\u001b[39m'\u001b[39m\u001b[39mcp customer_letter.docx \u001b[39m\u001b[39m'\u001b[39m\u001b[39m+\u001b[39mcwd\u001b[39m+\u001b[39m\u001b[39m'\u001b[39m\u001b[39m/folders/\u001b[39m\u001b[39m'\u001b[39m\u001b[39m+\u001b[39m\u001b[39mstr\u001b[39m(customer)\u001b[39m+\u001b[39m\u001b[39m'\u001b[39m\u001b[39m/customer_letter.docx\u001b[39m\u001b[39m'\u001b[39m)\n",
      "\u001b[0;31mFileNotFoundError\u001b[0m: [Errno 2] No such file or directory: '/Users/matansharon/python projects/folders/15008'"
     ]
    }
   ],
   "source": [
    "#create a new folder for each number in the list_of_customers and put inside the folder the customer_letter.docx\n",
    "#get the parent current working directory\n",
    "cwd = os.getcwd()\n",
    "print(cwd)\n",
    "#create a folder for each customer\n",
    "for customer in list_of_customers:\n",
    "    #create a new folder for each customer\n",
    "    os.mkdir(cwd+'/folders/'+str(customer))\n",
    "    #copy the customer_letter.docx to the new folder\n",
    "    os.system('cp customer_letter.docx '+cwd+'/folders/'+str(customer)+'/customer_letter.docx')\n"
   ]
  },
  {
   "cell_type": "code",
   "execution_count": 10,
   "metadata": {},
   "outputs": [
    {
     "name": "stdout",
     "output_type": "stream",
     "text": [
      "To: \n",
      "----------------------------------------------------------------------------------------------------\n",
      "Attention: To Whom It May Concern\n",
      "----------------------------------------------------------------------------------------------------\n",
      "From: Dima Ali\n",
      "----------------------------------------------------------------------------------------------------\n",
      "Date: \n",
      "----------------------------------------------------------------------------------------------------\n",
      "\n",
      "----------------------------------------------------------------------------------------------------\n",
      "Re: CN-22-33 Change notification regarding Elcam Specifications Update 0020-G, 0021-G, 0040-G, 0090-G\n",
      "----------------------------------------------------------------------------------------------------\n",
      "\n",
      "----------------------------------------------------------------------------------------------------\n",
      "Dear Valued Customer, \n",
      "----------------------------------------------------------------------------------------------------\n",
      "\n",
      "----------------------------------------------------------------------------------------------------\n",
      "We would like to inform you regarding a revision update of Elcam specifications number: \n",
      "----------------------------------------------------------------------------------------------------\n",
      "Spec 0020-G Rev I - SPSB Stopcocks\n",
      "----------------------------------------------------------------------------------------------------\n",
      "Spec 0021-G Rev D - SPLB Stopcocks\n",
      "----------------------------------------------------------------------------------------------------\n",
      "Spec 0040-M Rev J - Monoblock-Manifold\n",
      "----------------------------------------------------------------------------------------------------\n",
      "Spec 0090-G Rev B – NIP\n",
      "----------------------------------------------------------------------------------------------------\n",
      "\n",
      "----------------------------------------------------------------------------------------------------\n",
      "Attached you will find copy of the specifications 0020-G, 0021-G, 0040-G, 0090-G.\n",
      "----------------------------------------------------------------------------------------------------\n",
      "At the end of the specification, you can find history table with details regarding the changes that were made in each revision.\n",
      "----------------------------------------------------------------------------------------------------\n",
      "\n",
      "----------------------------------------------------------------------------------------------------\n",
      "The following product(s) currently purchased by your company will be affected by this notification:\n",
      "----------------------------------------------------------------------------------------------------\n",
      "\n",
      "----------------------------------------------------------------------------------------------------\n",
      "Please note that if your current approved specification implies otherwise, it is your responsibility to revise it accordingly.\n",
      "----------------------------------------------------------------------------------------------------\n",
      "\n",
      "----------------------------------------------------------------------------------------------------\n",
      "We would like to emphasize that there will be no change in product's performances or functionality.\n",
      "----------------------------------------------------------------------------------------------------\n",
      "\n",
      "----------------------------------------------------------------------------------------------------\n",
      "\n",
      "Should you have any comments or if any further information is required, please contact me at: \n",
      "----------------------------------------------------------------------------------------------------\n",
      "\n",
      "----------------------------------------------------------------------------------------------------\n",
      "Best Regards, \n",
      "----------------------------------------------------------------------------------------------------\n",
      "Dima Ali\n",
      "----------------------------------------------------------------------------------------------------\n",
      "Elcam Medical\n",
      "----------------------------------------------------------------------------------------------------\n",
      "\n",
      "----------------------------------------------------------------------------------------------------\n"
     ]
    }
   ],
   "source": [
    "\n",
    "from docx import Document\n",
    "\n",
    "document = Document('Customer_refrence.docx')\n",
    "document.save('test2.docx')\n",
    "for  p in range(len(document.paragraphs)):\n",
    "    row=document.paragraphs[p]\n",
    "    print(row.text)\n",
    "    print('-'*100)"
   ]
  }
 ],
 "metadata": {
  "kernelspec": {
   "display_name": "base",
   "language": "python",
   "name": "python3"
  },
  "language_info": {
   "codemirror_mode": {
    "name": "ipython",
    "version": 3
   },
   "file_extension": ".py",
   "mimetype": "text/x-python",
   "name": "python",
   "nbconvert_exporter": "python",
   "pygments_lexer": "ipython3",
   "version": "3.9.13"
  },
  "orig_nbformat": 4,
  "vscode": {
   "interpreter": {
    "hash": "3f5489b7472e0db5a0aca474269aa1efb9aed33b7cc21a8c650b51c14ef83b94"
   }
  }
 },
 "nbformat": 4,
 "nbformat_minor": 2
}
