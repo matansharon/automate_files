{
 "cells": [
  {
   "cell_type": "code",
   "execution_count": 5,
   "metadata": {},
   "outputs": [],
   "source": [
    "import pandas as pd\n",
    "import numpy as np\n",
    "import os\n",
    "import pathlib\n"
   ]
  },
  {
   "cell_type": "code",
   "execution_count": null,
   "metadata": {},
   "outputs": [],
   "source": [
    "list_of_customers = pd.read_excel('only_the_customer_number.xlsx')\n",
    "#drop all rows with NaN value in the Customer Number column\n",
    "list_of_customers = list_of_customers.dropna(subset=['Customer number'])\n",
    "(list_of_customers)"
   ]
  },
  {
   "cell_type": "code",
   "execution_count": null,
   "metadata": {},
   "outputs": [],
   "source": [
    "#create a folder in the folders directory name matan in the parent directory name folders and put a the file Customer_refrence.docx in it\n",
    "for file in list_of_customers['Customer number'].head(5):\n",
    "    i=str(int(file))\n",
    "    os.makedirs(f'folders/{i}')\n",
    "    pathlib.Path(f'folders/{i}/Customer_refrence.docx').touch()\n",
    "\n"
   ]
  },
  {
   "cell_type": "code",
   "execution_count": null,
   "metadata": {},
   "outputs": [],
   "source": [
    "\n",
    "# for c in list_of_customers['Customer number'].head(5):\n",
    "#     # print(c)\n",
    "#     if c:\n",
    "#         customer=str(int(c))\n",
    "#         path = pathlib.Path('folders', customer)\n",
    "#         path.mkdir(parents=True, exist_ok=True)\n",
    "#         with open(pathlib.Path('folders', customer, 'test.docx'), 'w') as f:\n",
    "#             f.write('test')"
   ]
  },
  {
   "cell_type": "code",
   "execution_count": null,
   "metadata": {},
   "outputs": [],
   "source": [
    "for c in list_of_customers:\n",
    "    pathlib.Path('folders/matan').mkdir(parents=True, exist_ok=True)   \n",
    "\n",
    "    "
   ]
  },
  {
   "cell_type": "code",
   "execution_count": 9,
   "metadata": {},
   "outputs": [
    {
     "name": "stdout",
     "output_type": "stream",
     "text": [
      "To: \n",
      "----------------------------------------------------------------------------------------------------\n",
      "Attention: To Whom It May Concern\n",
      "----------------------------------------------------------------------------------------------------\n",
      "From: Dima Ali\n",
      "----------------------------------------------------------------------------------------------------\n",
      "Date: \n",
      "----------------------------------------------------------------------------------------------------\n",
      "\n",
      "----------------------------------------------------------------------------------------------------\n",
      "Re: CN-22-33 Change notification regarding Elcam Specifications Update 0020-G, 0021-G, 0040-G, 0090-G\n",
      "----------------------------------------------------------------------------------------------------\n",
      "\n",
      "----------------------------------------------------------------------------------------------------\n",
      "Dear Valued Customer, \n",
      "----------------------------------------------------------------------------------------------------\n",
      "\n",
      "----------------------------------------------------------------------------------------------------\n",
      "We would like to inform you regarding a revision update of Elcam specifications number: \n",
      "----------------------------------------------------------------------------------------------------\n",
      "Spec 0020-G Rev I - SPSB Stopcocks\n",
      "----------------------------------------------------------------------------------------------------\n",
      "Spec 0021-G Rev D - SPLB Stopcocks\n",
      "----------------------------------------------------------------------------------------------------\n",
      "Spec 0040-M Rev J - Monoblock-Manifold\n",
      "----------------------------------------------------------------------------------------------------\n",
      "Spec 0090-G Rev B – NIP\n",
      "----------------------------------------------------------------------------------------------------\n",
      "\n",
      "----------------------------------------------------------------------------------------------------\n",
      "Attached you will find copy of the specifications 0020-G, 0021-G, 0040-G, 0090-G.\n",
      "----------------------------------------------------------------------------------------------------\n",
      "At the end of the specification, you can find history table with details regarding the changes that were made in each revision.\n",
      "----------------------------------------------------------------------------------------------------\n",
      "\n",
      "----------------------------------------------------------------------------------------------------\n",
      "The following product(s) currently purchased by your company will be affected by this notification:\n",
      "----------------------------------------------------------------------------------------------------\n",
      "\n",
      "----------------------------------------------------------------------------------------------------\n",
      "Please note that if your current approved specification implies otherwise, it is your responsibility to revise it accordingly.\n",
      "----------------------------------------------------------------------------------------------------\n",
      "\n",
      "----------------------------------------------------------------------------------------------------\n",
      "We would like to emphasize that there will be no change in product's performances or functionality.\n",
      "----------------------------------------------------------------------------------------------------\n",
      "\n",
      "----------------------------------------------------------------------------------------------------\n",
      "\n",
      "Should you have any comments or if any further information is required, please contact me at: \n",
      "----------------------------------------------------------------------------------------------------\n",
      "\n",
      "----------------------------------------------------------------------------------------------------\n",
      "Best Regards, \n",
      "----------------------------------------------------------------------------------------------------\n",
      "Dima Ali\n",
      "----------------------------------------------------------------------------------------------------\n",
      "Elcam Medical\n",
      "----------------------------------------------------------------------------------------------------\n",
      "\n",
      "----------------------------------------------------------------------------------------------------\n"
     ]
    }
   ],
   "source": [
    "\n",
    "from docx import Document\n",
    "\n",
    "document = Document('Customer_refrence.docx')\n",
    "document.save('test2.docx')\n",
    "for  p in document.paragraphs:\n",
    "    print(p.text)\n",
    "    print('-'*100)"
   ]
  }
 ],
 "metadata": {
  "kernelspec": {
   "display_name": "base",
   "language": "python",
   "name": "python3"
  },
  "language_info": {
   "codemirror_mode": {
    "name": "ipython",
    "version": 3
   },
   "file_extension": ".py",
   "mimetype": "text/x-python",
   "name": "python",
   "nbconvert_exporter": "python",
   "pygments_lexer": "ipython3",
   "version": "3.9.13"
  },
  "orig_nbformat": 4,
  "vscode": {
   "interpreter": {
    "hash": "3f5489b7472e0db5a0aca474269aa1efb9aed33b7cc21a8c650b51c14ef83b94"
   }
  }
 },
 "nbformat": 4,
 "nbformat_minor": 2
}
