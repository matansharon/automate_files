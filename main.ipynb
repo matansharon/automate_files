{
 "cells": [
  {
   "cell_type": "code",
   "execution_count": 2,
   "metadata": {},
   "outputs": [],
   "source": [
    "import pandas as pd\n",
    "import numpy as np\n",
    "import os\n",
    "import pathlib\n",
    "from datetime import datetime\n",
    "from docx import Document"
   ]
  },
  {
   "cell_type": "code",
   "execution_count": 3,
   "metadata": {},
   "outputs": [],
   "source": [
    "class Customer:\n",
    "    def __init__(self,id,name):\n",
    "        self.id = id\n",
    "        self.name = name\n",
    "        self.components={}\n",
    "    def add(self,component):\n",
    "        self.components[component.id] = component\n",
    "    def get(self,component_id):\n",
    "        return self.components[component_id]\n",
    "    def get_all_components(self):\n",
    "        res=self.components.values()\n",
    "        return res\n",
    "    def get_id(self):\n",
    "        return self.id\n",
    "    def get_name(self):\n",
    "        return self.name\n",
    "    def toString(self):\n",
    "        return \"Customer: \"+str(self.id)+\" \"+str(self.name)\n",
    "    "
   ]
  },
  {
   "cell_type": "code",
   "execution_count": 4,
   "metadata": {},
   "outputs": [],
   "source": [
    "class Component:\n",
    "    def __init__(self,id,name):\n",
    "        self.id = id\n",
    "        self.name = name \n",
    "    def get_id(self):\n",
    "        return self.id\n",
    "    def get_name(self):\n",
    "        return self.name\n",
    "    def toString(self):\n",
    "        return \"Component: \"+str(self.id)+\" \"+self.name"
   ]
  },
  {
   "cell_type": "code",
   "execution_count": 5,
   "metadata": {},
   "outputs": [],
   "source": [
    "data=pd.read_csv(\"sold.csv\")\n",
    "customers=set(data['Customer_number'])\n",
    "customers={}\n",
    "for i in range(len(data)):\n",
    "    row=data.iloc[i]\n",
    "    if row['Customer_number'] not in customers:\n",
    "        customers[row['Customer_number']]=Customer(row['Customer_number'],row['Customer_name'])\n",
    "    temp_customer=customers[row['Customer_number']]\n",
    "    temp_customer.add(Component(row['Item_number'],row['Name']))\n"
   ]
  },
  {
   "cell_type": "code",
   "execution_count": null,
   "metadata": {},
   "outputs": [],
   "source": [
    "for customer in customers:\n",
    "    print(customers[customer].toString())\n",
    "    for component in customers[customer].get_all_components():\n",
    "        print('  '+component.toString())"
   ]
  },
  {
   "cell_type": "code",
   "execution_count": 26,
   "metadata": {},
   "outputs": [
    {
     "ename": "TypeError",
     "evalue": "'Table' object is not iterable",
     "output_type": "error",
     "traceback": [
      "\u001b[0;31m---------------------------------------------------------------------------\u001b[0m",
      "\u001b[0;31mTypeError\u001b[0m                                 Traceback (most recent call last)",
      "Cell \u001b[0;32mIn [26], line 18\u001b[0m\n\u001b[1;32m     16\u001b[0m         row\u001b[39m.\u001b[39mcells[\u001b[39m2\u001b[39m]\u001b[39m.\u001b[39mtext\u001b[39m=\u001b[39mc\u001b[39m.\u001b[39mget_name()\n\u001b[1;32m     17\u001b[0m         row_index\u001b[39m+\u001b[39m\u001b[39m=\u001b[39m\u001b[39m1\u001b[39m\n\u001b[0;32m---> 18\u001b[0m \u001b[39mfor\u001b[39;00m row \u001b[39min\u001b[39;00m table:\n\u001b[1;32m     19\u001b[0m         \u001b[39mif\u001b[39;00m row\u001b[39m.\u001b[39mcells[\u001b[39m0\u001b[39m]\u001b[39m==\u001b[39m\u001b[39m'\u001b[39m\u001b[39m'\u001b[39m:\n\u001b[1;32m     20\u001b[0m                 table\u001b[39m.\u001b[39mdelete_row(row)\n",
      "\u001b[0;31mTypeError\u001b[0m: 'Table' object is not iterable"
     ]
    }
   ],
   "source": [
    "curr_customer=customers[15008]\n",
    "\n",
    "document = Document('customer_letter.docx')\n",
    "\n",
    "document.paragraphs[0].text +=curr_customer.get_name()\n",
    "document.paragraphs[3].text +=' '+datetime.today().strftime('%Y-%m-%d')\n",
    "document.paragraphs[7].text = 'Dear '+curr_customer.get_name()+','\n",
    "row_index=1\n",
    "table=document.tables[0]\n",
    "for c in curr_customer.get_all_components():\n",
    "        \n",
    "        #get the rows from table\n",
    "        row=table.rows[row_index]\n",
    "        row.cells[0].text=curr_customer.get_name()\n",
    "        row.cells[1].text=str(c.get_id())\n",
    "        row.cells[2].text=c.get_name()\n",
    "        row_index+=1\n",
    "\n",
    " \n",
    "document.save('test2.docx')"
   ]
  },
  {
   "cell_type": "code",
   "execution_count": null,
   "metadata": {},
   "outputs": [],
   "source": []
  }
 ],
 "metadata": {
  "kernelspec": {
   "display_name": "Python 3.9.12 ('base')",
   "language": "python",
   "name": "python3"
  },
  "language_info": {
   "codemirror_mode": {
    "name": "ipython",
    "version": 3
   },
   "file_extension": ".py",
   "mimetype": "text/x-python",
   "name": "python",
   "nbconvert_exporter": "python",
   "pygments_lexer": "ipython3",
   "version": "3.9.12"
  },
  "orig_nbformat": 4,
  "vscode": {
   "interpreter": {
    "hash": "3d5db532c048f37cc8487068e8e1c41ac5ce63d1b52e8a8c32ff882c22c4c18a"
   }
  }
 },
 "nbformat": 4,
 "nbformat_minor": 2
}
